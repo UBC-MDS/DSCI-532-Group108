{
 "cells": [
  {
   "cell_type": "code",
   "execution_count": 2,
   "metadata": {},
   "outputs": [
    {
     "data": {
      "text/plain": [
       "DataTransformerRegistry.enable('json')"
      ]
     },
     "execution_count": 2,
     "metadata": {},
     "output_type": "execute_result"
    }
   ],
   "source": [
    "import numpy as np\n",
    "import pandas as pd\n",
    "import altair as alt\n",
    "import os as os\n",
    "alt.data_transformers.enable('json')"
   ]
  },
  {
   "cell_type": "code",
   "execution_count": 2,
   "metadata": {},
   "outputs": [
    {
     "data": {
      "text/plain": [
       "'/home/dkruszew/Documents/labs/DSCI-532-Group108/scr'"
      ]
     },
     "execution_count": 2,
     "metadata": {},
     "output_type": "execute_result"
    }
   ],
   "source": [
    "os.getcwd()"
   ]
  },
  {
   "cell_type": "code",
   "execution_count": 6,
   "metadata": {},
   "outputs": [],
   "source": [
    "df = pd.read_csv('../data/crimedata_csv_all_years.csv')"
   ]
  },
  {
   "cell_type": "code",
   "execution_count": 7,
   "metadata": {},
   "outputs": [],
   "source": [
    "df_line = df.query('TYPE == \"Break and Enter Commercial\"').groupby(['YEAR']).count().reset_index()"
   ]
  },
  {
   "cell_type": "code",
   "execution_count": 8,
   "metadata": {},
   "outputs": [
    {
     "data": {
      "text/html": [
       "<div>\n",
       "<style scoped>\n",
       "    .dataframe tbody tr th:only-of-type {\n",
       "        vertical-align: middle;\n",
       "    }\n",
       "\n",
       "    .dataframe tbody tr th {\n",
       "        vertical-align: top;\n",
       "    }\n",
       "\n",
       "    .dataframe thead th {\n",
       "        text-align: right;\n",
       "    }\n",
       "</style>\n",
       "<table border=\"1\" class=\"dataframe\">\n",
       "  <thead>\n",
       "    <tr style=\"text-align: right;\">\n",
       "      <th></th>\n",
       "      <th>YEAR</th>\n",
       "      <th>TYPE</th>\n",
       "      <th>MONTH</th>\n",
       "      <th>DAY</th>\n",
       "      <th>HOUR</th>\n",
       "      <th>MINUTE</th>\n",
       "      <th>HUNDRED_BLOCK</th>\n",
       "      <th>NEIGHBOURHOOD</th>\n",
       "      <th>X</th>\n",
       "      <th>Y</th>\n",
       "    </tr>\n",
       "  </thead>\n",
       "  <tbody>\n",
       "    <tr>\n",
       "      <th>0</th>\n",
       "      <td>2003</td>\n",
       "      <td>3197</td>\n",
       "      <td>3197</td>\n",
       "      <td>3197</td>\n",
       "      <td>3197</td>\n",
       "      <td>3197</td>\n",
       "      <td>3197</td>\n",
       "      <td>3197</td>\n",
       "      <td>3197</td>\n",
       "      <td>3197</td>\n",
       "    </tr>\n",
       "    <tr>\n",
       "      <th>1</th>\n",
       "      <td>2004</td>\n",
       "      <td>3283</td>\n",
       "      <td>3283</td>\n",
       "      <td>3283</td>\n",
       "      <td>3283</td>\n",
       "      <td>3283</td>\n",
       "      <td>3283</td>\n",
       "      <td>3283</td>\n",
       "      <td>3283</td>\n",
       "      <td>3283</td>\n",
       "    </tr>\n",
       "    <tr>\n",
       "      <th>2</th>\n",
       "      <td>2005</td>\n",
       "      <td>2639</td>\n",
       "      <td>2639</td>\n",
       "      <td>2639</td>\n",
       "      <td>2639</td>\n",
       "      <td>2639</td>\n",
       "      <td>2639</td>\n",
       "      <td>2638</td>\n",
       "      <td>2639</td>\n",
       "      <td>2639</td>\n",
       "    </tr>\n",
       "    <tr>\n",
       "      <th>3</th>\n",
       "      <td>2006</td>\n",
       "      <td>2844</td>\n",
       "      <td>2844</td>\n",
       "      <td>2844</td>\n",
       "      <td>2844</td>\n",
       "      <td>2844</td>\n",
       "      <td>2844</td>\n",
       "      <td>2844</td>\n",
       "      <td>2844</td>\n",
       "      <td>2844</td>\n",
       "    </tr>\n",
       "    <tr>\n",
       "      <th>4</th>\n",
       "      <td>2007</td>\n",
       "      <td>2436</td>\n",
       "      <td>2436</td>\n",
       "      <td>2436</td>\n",
       "      <td>2436</td>\n",
       "      <td>2436</td>\n",
       "      <td>2436</td>\n",
       "      <td>2434</td>\n",
       "      <td>2436</td>\n",
       "      <td>2436</td>\n",
       "    </tr>\n",
       "  </tbody>\n",
       "</table>\n",
       "</div>"
      ],
      "text/plain": [
       "   YEAR  TYPE  MONTH   DAY  HOUR  MINUTE  HUNDRED_BLOCK  NEIGHBOURHOOD     X  \\\n",
       "0  2003  3197   3197  3197  3197    3197           3197           3197  3197   \n",
       "1  2004  3283   3283  3283  3283    3283           3283           3283  3283   \n",
       "2  2005  2639   2639  2639  2639    2639           2639           2638  2639   \n",
       "3  2006  2844   2844  2844  2844    2844           2844           2844  2844   \n",
       "4  2007  2436   2436  2436  2436    2436           2436           2434  2436   \n",
       "\n",
       "      Y  \n",
       "0  3197  \n",
       "1  3283  \n",
       "2  2639  \n",
       "3  2844  \n",
       "4  2436  "
      ]
     },
     "execution_count": 8,
     "metadata": {},
     "output_type": "execute_result"
    }
   ],
   "source": [
    "df_line.head()"
   ]
  },
  {
   "cell_type": "code",
   "execution_count": 9,
   "metadata": {},
   "outputs": [
    {
     "data": {
      "application/vnd.vegalite.v3+json": {
       "$schema": "https://vega.github.io/schema/vega-lite/v3.4.0.json",
       "config": {
        "mark": {
         "tooltip": null
        },
        "view": {
         "height": 300,
         "width": 400
        }
       },
       "data": {
        "format": {
         "type": "json"
        },
        "url": "altair-data-977780ac7fe25ffeeac6d4303986f57c.json"
       },
       "encoding": {
        "x": {
         "field": "YEAR",
         "type": "ordinal"
        },
        "y": {
         "field": "TYPE",
         "title": "Number of Crimes",
         "type": "quantitative"
        }
       },
       "mark": "line",
       "title": "Break and Enter"
      },
      "image/png": "[encoded data removed]",
      "text/plain": [
       "<VegaLite 3 object>\n",
       "\n",
       "If you see this message, it means the renderer has not been properly enabled\n",
       "for the frontend that you are using. For more information, see\n",
       "https://altair-viz.github.io/user_guide/troubleshooting.html\n"
      ]
     },
     "execution_count": 9,
     "metadata": {},
     "output_type": "execute_result"
    }
   ],
   "source": [
    "alt.Chart(df_line).mark_line().encode(\n",
    "    alt.X('YEAR:O'),\n",
    "    alt.Y('TYPE:Q', title='Number of Crimes')\n",
    ").properties(\n",
    "title='Break and Enter')"
   ]
  },
  {
   "cell_type": "code",
   "execution_count": 39,
   "metadata": {},
   "outputs": [
    {
     "data": {
      "text/html": [
       "<div>\n",
       "<style scoped>\n",
       "    .dataframe tbody tr th:only-of-type {\n",
       "        vertical-align: middle;\n",
       "    }\n",
       "\n",
       "    .dataframe tbody tr th {\n",
       "        vertical-align: top;\n",
       "    }\n",
       "\n",
       "    .dataframe thead th {\n",
       "        text-align: right;\n",
       "    }\n",
       "</style>\n",
       "<table border=\"1\" class=\"dataframe\">\n",
       "  <thead>\n",
       "    <tr style=\"text-align: right;\">\n",
       "      <th></th>\n",
       "      <th>index</th>\n",
       "      <th>district</th>\n",
       "    </tr>\n",
       "  </thead>\n",
       "  <tbody>\n",
       "    <tr>\n",
       "      <th>0</th>\n",
       "      <td>18</td>\n",
       "      <td>Arbutus Ridge</td>\n",
       "    </tr>\n",
       "    <tr>\n",
       "      <th>1</th>\n",
       "      <td>3</td>\n",
       "      <td>Central Business District</td>\n",
       "    </tr>\n",
       "    <tr>\n",
       "      <th>2</th>\n",
       "      <td>21</td>\n",
       "      <td>Dunbar-Southlands</td>\n",
       "    </tr>\n",
       "    <tr>\n",
       "      <th>3</th>\n",
       "      <td>1</td>\n",
       "      <td>Fairview</td>\n",
       "    </tr>\n",
       "    <tr>\n",
       "      <th>4</th>\n",
       "      <td>6</td>\n",
       "      <td>Grandview-Woodland</td>\n",
       "    </tr>\n",
       "    <tr>\n",
       "      <th>5</th>\n",
       "      <td>4</td>\n",
       "      <td>Hastings-Sunrise</td>\n",
       "    </tr>\n",
       "    <tr>\n",
       "      <th>6</th>\n",
       "      <td>8</td>\n",
       "      <td>Kensington-Cedar Cottage</td>\n",
       "    </tr>\n",
       "    <tr>\n",
       "      <th>7</th>\n",
       "      <td>16</td>\n",
       "      <td>Kerrisdale</td>\n",
       "    </tr>\n",
       "    <tr>\n",
       "      <th>8</th>\n",
       "      <td>20</td>\n",
       "      <td>Killarney</td>\n",
       "    </tr>\n",
       "    <tr>\n",
       "      <th>9</th>\n",
       "      <td>7</td>\n",
       "      <td>Kitsilano</td>\n",
       "    </tr>\n",
       "    <tr>\n",
       "      <th>10</th>\n",
       "      <td>13</td>\n",
       "      <td>Marpole</td>\n",
       "    </tr>\n",
       "    <tr>\n",
       "      <th>11</th>\n",
       "      <td>10</td>\n",
       "      <td>Mount Pleasant</td>\n",
       "    </tr>\n",
       "    <tr>\n",
       "      <th>12</th>\n",
       "      <td>23</td>\n",
       "      <td>Musqueam</td>\n",
       "    </tr>\n",
       "    <tr>\n",
       "      <th>13</th>\n",
       "      <td>0</td>\n",
       "      <td>Oakridge</td>\n",
       "    </tr>\n",
       "    <tr>\n",
       "      <th>14</th>\n",
       "      <td>19</td>\n",
       "      <td>Renfrew-Collingwood</td>\n",
       "    </tr>\n",
       "    <tr>\n",
       "      <th>15</th>\n",
       "      <td>17</td>\n",
       "      <td>Riley Park</td>\n",
       "    </tr>\n",
       "    <tr>\n",
       "      <th>16</th>\n",
       "      <td>12</td>\n",
       "      <td>Shaughnessy</td>\n",
       "    </tr>\n",
       "    <tr>\n",
       "      <th>17</th>\n",
       "      <td>22</td>\n",
       "      <td>South Cambie</td>\n",
       "    </tr>\n",
       "    <tr>\n",
       "      <th>18</th>\n",
       "      <td>11</td>\n",
       "      <td>Stanley Park</td>\n",
       "    </tr>\n",
       "    <tr>\n",
       "      <th>19</th>\n",
       "      <td>5</td>\n",
       "      <td>Strathcona</td>\n",
       "    </tr>\n",
       "    <tr>\n",
       "      <th>20</th>\n",
       "      <td>9</td>\n",
       "      <td>Sunset</td>\n",
       "    </tr>\n",
       "    <tr>\n",
       "      <th>21</th>\n",
       "      <td>15</td>\n",
       "      <td>Victoria-Fraserview</td>\n",
       "    </tr>\n",
       "    <tr>\n",
       "      <th>22</th>\n",
       "      <td>2</td>\n",
       "      <td>West End</td>\n",
       "    </tr>\n",
       "    <tr>\n",
       "      <th>23</th>\n",
       "      <td>14</td>\n",
       "      <td>West Point Grey</td>\n",
       "    </tr>\n",
       "    <tr>\n",
       "      <th>24</th>\n",
       "      <td>24</td>\n",
       "      <td>NaN</td>\n",
       "    </tr>\n",
       "  </tbody>\n",
       "</table>\n",
       "</div>"
      ],
      "text/plain": [
       "    index                   district\n",
       "0      18              Arbutus Ridge\n",
       "1       3  Central Business District\n",
       "2      21          Dunbar-Southlands\n",
       "3       1                   Fairview\n",
       "4       6         Grandview-Woodland\n",
       "5       4           Hastings-Sunrise\n",
       "6       8   Kensington-Cedar Cottage\n",
       "7      16                 Kerrisdale\n",
       "8      20                  Killarney\n",
       "9       7                  Kitsilano\n",
       "10     13                    Marpole\n",
       "11     10             Mount Pleasant\n",
       "12     23                   Musqueam\n",
       "13      0                   Oakridge\n",
       "14     19        Renfrew-Collingwood\n",
       "15     17                 Riley Park\n",
       "16     12                Shaughnessy\n",
       "17     22               South Cambie\n",
       "18     11               Stanley Park\n",
       "19      5                 Strathcona\n",
       "20      9                     Sunset\n",
       "21     15        Victoria-Fraserview\n",
       "22      2                   West End\n",
       "23     14            West Point Grey\n",
       "24     24                        NaN"
      ]
     },
     "execution_count": 39,
     "metadata": {},
     "output_type": "execute_result"
    }
   ],
   "source": [
    "(pd.DataFrame({'district':df['NEIGHBOURHOOD'].unique()})).sort_values('district').reset_index()"
   ]
  },
  {
   "cell_type": "code",
   "execution_count": 178,
   "metadata": {},
   "outputs": [],
   "source": [
    "df = pd.read_csv('../data/crimedata_csv_all_years.csv')"
   ]
  },
  {
   "cell_type": "code",
   "execution_count": 195,
   "metadata": {},
   "outputs": [
    {
     "data": {
      "application/vnd.vegalite.v3+json": {
       "$schema": "https://vega.github.io/schema/vega-lite/v3.4.0.json",
       "config": {
        "background": "#f7e0bc",
        "mark": {
         "tooltip": null
        },
        "view": {
         "height": 300,
         "width": 400
        }
       },
       "data": {
        "format": {
         "type": "json"
        },
        "url": "altair-data-c0d955223f87fd7341096dee113bee77.json"
       },
       "encoding": {
        "color": {
         "value": "blue"
        },
        "x": {
         "field": "YEAR",
         "type": "nominal"
        },
        "y": {
         "field": "TYPE",
         "title": "Number of Crimes",
         "type": "quantitative"
        }
       },
       "height": 300,
       "mark": "line",
       "title": "Theft of Bicycle",
       "width": 500
      },
      "image/png": "[encoded data removed]",
      "text/plain": [
       "<VegaLite 3 object>\n",
       "\n",
       "If you see this message, it means the renderer has not been properly enabled\n",
       "for the frontend that you are using. For more information, see\n",
       "https://altair-viz.github.io/user_guide/troubleshooting.html\n"
      ]
     },
     "execution_count": 195,
     "metadata": {},
     "output_type": "execute_result"
    }
   ],
   "source": [
    "time_scale = \"YEAR\"\n",
    "crime = \"Theft of Bicycle\"\n",
    "neighbourhood = \"ALL\"\n",
    "\n",
    "if neighbourhood != \"ALL\":\n",
    "    if crime != \"ALL\":\n",
    "        df_line = df.query('TYPE == @crime & NEIGHBOURHOOD == @neighbourhood').groupby([time_scale]).count().reset_index()\n",
    "    else:    \n",
    "        df_line = df.query('NEIGHBOURHOOD == @neighbourhood').groupby([time_scale]).count().reset_index()\n",
    "else:\n",
    "    if crime != \"ALL\":\n",
    "        df_line = df.query('TYPE == @crime').groupby([time_scale]).count().reset_index()\n",
    "    else:\n",
    "        df_line = df.groupby([time_scale]).count().reset_index() \n",
    "    \n",
    "alt.Chart(df_line).mark_line().encode(\n",
    "    alt.X(time_scale+':N'),\n",
    "    alt.Y('TYPE:Q', title='Number of Crimes'),\n",
    "    alt.Color(value=\"blue\")\n",
    ").configure_axisX(\n",
    "    labelAngle=90,\n",
    "    grid=True\n",
    ").configure(\n",
    "    background='#f7e0bc' #HEX color code\n",
    ").properties(\n",
    "height=300,\n",
    "width=500,\n",
    "title=crime\n",
    ")"
   ]
  },
  {
   "cell_type": "code",
   "execution_count": null,
   "metadata": {},
   "outputs": [],
   "source": []
  },
  {
   "cell_type": "code",
   "execution_count": 112,
   "metadata": {},
   "outputs": [
    {
     "data": {
      "text/plain": [
       "array(['Break and Enter Commercial', 'Break and Enter Residential/Other',\n",
       "       'Homicide', 'Mischief', 'Offence Against a Person', 'Other Theft',\n",
       "       'Theft from Vehicle', 'Theft of Bicycle', 'Theft of Vehicle',\n",
       "       'Vehicle Collision or Pedestrian Struck (with Fatality)',\n",
       "       'Vehicle Collision or Pedestrian Struck (with Injury)'],\n",
       "      dtype=object)"
      ]
     },
     "execution_count": 112,
     "metadata": {},
     "output_type": "execute_result"
    }
   ],
   "source": [
    "df['TYPE'].unique()"
   ]
  },
  {
   "cell_type": "code",
   "execution_count": null,
   "metadata": {},
   "outputs": [],
   "source": []
  },
  {
   "cell_type": "code",
   "execution_count": null,
   "metadata": {},
   "outputs": [],
   "source": []
  }
 ],
 "metadata": {
  "kernelspec": {
   "display_name": "Python 3",
   "language": "python",
   "name": "python3"
  },
  "language_info": {
   "codemirror_mode": {
    "name": "ipython",
    "version": 3
   },
   "file_extension": ".py",
   "mimetype": "text/x-python",
   "name": "python",
   "nbconvert_exporter": "python",
   "pygments_lexer": "ipython3",
   "version": "3.7.5"
  }
 },
 "nbformat": 4,
 "nbformat_minor": 4
}
