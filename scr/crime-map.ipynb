{
 "cells": [
  {
   "cell_type": "code",
   "execution_count": 3,
   "metadata": {},
   "outputs": [],
   "source": [
    "import numpy as np\n",
    "import pandas as pd\n",
    "import altair as alt\n",
    "import geopandas as gpd\n",
    "import json"
   ]
  },
  {
   "cell_type": "code",
   "execution_count": 4,
   "metadata": {},
   "outputs": [],
   "source": [
    "geojson_filepath = '../data/vancouver.geojson'\n",
    "\n",
    "def open_geojson(path):\n",
    "    \"\"\"\n",
    "    Opens a geojson file at \"path\" filepath\n",
    "    \"\"\"\n",
    "    with open(path) as json_data:\n",
    "        d = json.load(json_data)\n",
    "    return d\n",
    "\n",
    "def get_geopandas_df(path):\n",
    "    \"\"\"\n",
    "    Creates geopandas dataframe from geeojson file \n",
    "    at \"path\" filepath\n",
    "    \"\"\"\n",
    "    open_json = open_geojson(path)\n",
    "    gdf = gpd.GeoDataFrame.from_features((open_json))\n",
    "    return gdf\n",
    "\n",
    "# Create geopandas dataframe from Vancouver geoJson file\n",
    "gdf = get_geopandas_df(geojson_filepath)\n",
    "\n",
    "# source (code): https://medium.com/dataexplorations/creating-choropleth-maps-in-altair-eeb7085779a1\n",
    "# source (map data): https://github.com/codeforamerica/click_that_hood/blob/master/public/data/vancouver.geojson"
   ]
  },
  {
   "cell_type": "code",
   "execution_count": null,
   "metadata": {},
   "outputs": [],
   "source": []
  },
  {
   "cell_type": "code",
   "execution_count": null,
   "metadata": {},
   "outputs": [],
   "source": []
  }
 ],
 "metadata": {
  "kernelspec": {
   "display_name": "Python 3",
   "language": "python",
   "name": "python3"
  },
  "language_info": {
   "codemirror_mode": {
    "name": "ipython",
    "version": 3
   },
   "file_extension": ".py",
   "mimetype": "text/x-python",
   "name": "python",
   "nbconvert_exporter": "python",
   "pygments_lexer": "ipython3",
   "version": "3.7.5"
  }
 },
 "nbformat": 4,
 "nbformat_minor": 4
}
